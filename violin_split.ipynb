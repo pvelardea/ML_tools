{
 "cells": [
  {
   "cell_type": "markdown",
   "metadata": {},
   "source": [
    "### Split a violin plot"
   ]
  },
  {
   "cell_type": "code",
   "execution_count": 1,
   "metadata": {},
   "outputs": [],
   "source": [
    "import pandas as pd\n",
    "import seaborn as sns\n",
    "import matplotlib.pyplot as plt"
   ]
  },
  {
   "cell_type": "code",
   "execution_count": 2,
   "metadata": {},
   "outputs": [
    {
     "name": "stdout",
     "output_type": "stream",
     "text": [
      "       country  year  population continent  life_exp     gdp_cap\n",
      "0  Afghanistan  1952     8425333      Asia    28.801  779.445314\n",
      "1  Afghanistan  1957     9240934      Asia    30.332  820.853030\n",
      "2  Afghanistan  1962    10267083      Asia    31.997  853.100710\n",
      "3  Afghanistan  1967    11537966      Asia    34.020  836.197138\n",
      "4  Afghanistan  1972    13079460      Asia    36.088  739.981106\n",
      "False\n"
     ]
    }
   ],
   "source": [
    "df = pd.read_csv(\"gapminder_full.csv\", on_bad_lines='skip', encoding=\"ISO-8859-1\")\n",
    "print(df.head())\n",
    "print(df.isnull().values.any())"
   ]
  },
  {
   "cell_type": "code",
   "execution_count": 3,
   "metadata": {},
   "outputs": [
    {
     "data": {
      "text/plain": [
       "array(['Asia', 'Europe', 'Africa', 'Americas', 'Oceania'], dtype=object)"
      ]
     },
     "execution_count": 3,
     "metadata": {},
     "output_type": "execute_result"
    }
   ],
   "source": [
    "df.continent.unique()"
   ]
  },
  {
   "cell_type": "code",
   "execution_count": 4,
   "metadata": {},
   "outputs": [],
   "source": [
    "# I will leave only two classes for the continent feature: Asia and Non-Asia\n",
    "df['continent'].mask(df['continent'] == 'Europe', 'No-Asia', inplace=True)\n",
    "df['continent'].mask(df['continent'] == 'Americas', 'No-Asia', inplace=True)\n",
    "df['continent'].mask(df['continent'] == 'Africa', 'No-Asia', inplace=True)\n",
    "df['continent'].mask(df['continent'] == 'Oceania', 'No-Asia', inplace=True)"
   ]
  },
  {
   "cell_type": "code",
   "execution_count": 6,
   "metadata": {},
   "outputs": [
    {
     "data": {
      "text/plain": [
       "array(['Asia', 'No-Asia'], dtype=object)"
      ]
     },
     "execution_count": 6,
     "metadata": {},
     "output_type": "execute_result"
    }
   ],
   "source": [
    "df.continent.unique()"
   ]
  },
  {
   "cell_type": "code",
   "execution_count": 7,
   "metadata": {},
   "outputs": [],
   "source": [
    "#I add the dummy variable \"all\" to the dataframe\n",
    "df['all']=''"
   ]
  },
  {
   "cell_type": "code",
   "execution_count": 8,
   "metadata": {},
   "outputs": [
    {
     "data": {
      "image/png": "[encoded data removed]",
      "text/plain": [
       "<Figure size 432x288 with 1 Axes>"
      ]
     },
     "metadata": {
      "needs_background": "light"
     },
     "output_type": "display_data"
    }
   ],
   "source": [
    "sns.violinplot(data = df, x = 'all',y=\"life_exp\", hue =\"continent\", split=True)\n",
    "plt.show()"
   ]
  },
  {
   "cell_type": "code",
   "execution_count": null,
   "metadata": {},
   "outputs": [],
   "source": []
  }
 ],
 "metadata": {
  "kernelspec": {
   "display_name": "Python 3",
   "language": "python",
   "name": "python3"
  },
  "language_info": {
   "codemirror_mode": {
    "name": "ipython",
    "version": 3
   },
   "file_extension": ".py",
   "mimetype": "text/x-python",
   "name": "python",
   "nbconvert_exporter": "python",
   "pygments_lexer": "ipython3",
   "version": "3.8.5"
  }
 },
 "nbformat": 4,
 "nbformat_minor": 4
}
